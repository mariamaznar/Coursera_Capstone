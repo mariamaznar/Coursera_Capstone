{
 "cells": [
  {
   "cell_type": "markdown",
   "metadata": {},
   "source": [
    "## Capstone Project - The Battle of Neighborhoods "
   ]
  },
  {
   "cell_type": "markdown",
   "metadata": {},
   "source": [
    "### WEEK 1"
   ]
  },
  {
   "cell_type": "markdown",
   "metadata": {},
   "source": [
    "#### 1. A description of the problem and a discussion of the background. "
   ]
  },
  {
   "cell_type": "markdown",
   "metadata": {},
   "source": [
    "Aim: analyse restaurants' market porfolio in Segovia to find a suitable location.\n",
    "Context: in this little town near Madrid there is no a huge variety of restaurants. A new chinese restaurant is planning to open. They know Segovian people really like this type of food, but it is not one of their first choices when thinking of a place to go for dinner/meal. Segovia is a very traditional town and they are used to eat their typical Spanish food. In this sense, this new chinese restaurant wants to capture the essence of Segovian's behaviour so they can attract their customers from this key point. \n",
    "\n",
    "- *What is the essence of Segovian's behaviour?* \n",
    "    Although Segovia is a very small town, their citizens always meet in the historic center of the city. The point of reference for meetings is the iconic Roman aqueduct, and nearby we can perceive a medieval environment with medieval walls, Romanesque churches, a former royal palace and a Gothic cathedral. \n",
    "\n",
    "- *What is the objective?*\n",
    "    This new Chinese restaurant is thinking about what location would be the best to capture the essence of Segovian's behaviour. They are considering placing outside the walls but near the hictoric center, but they are not sure if this is going to be the perfect place.\n",
    "    \n",
    "Therefore, we are going to perform data analysis with python and foursquare data to obtain objective data about the restaurant's market porfolio and combined with previous qualitative data we have already gathered about Segovians, find the perfect location for this new restaurant to succeed. "
   ]
  },
  {
   "cell_type": "markdown",
   "metadata": {},
   "source": [
    "#### 2. A description of the data and how it will be used to solve the problem."
   ]
  },
  {
   "cell_type": "markdown",
   "metadata": {},
   "source": [
    "-Data will include two neighbourhoods: inside city walls (historic center) or outside city walls (urban area).\n",
    "- We are going to analyse the venues in this two neighbourhoods:\n",
    "    - Frequency of restaurants to see where are placed most of the restaurants.\n",
    "                If there are many restaurants concentrated in one neighbourhood this might be the right neighbourhood.\n",
    "                What are the types of restaurants in the most populated area? \n",
    "                Do this restaurantes match with the essence of Segovian's behaviour?\n",
    "    - Location of current chinese restaurants to analyse the competition. \n",
    "                Is there an area where most chinese (or Asian) restaurants are concentrated?\n",
    "                Can we find chinese restaurants in the most populated area? \n",
    "                Do this current chinese restaurants match with the essence of Segovian's behaviour?\n",
    "    - Trigger venues (this are venues such as bars or pubs which can be determinant to choose where to go to have dinner/meal, i.e. if there are other venues nearby people might choose that place as it is close to those venues)\n",
    "                Is there a specific leisure place within any of the neighbourhoods?\n",
    "                Which venues can match with the essence of Segovian's behaviour?\n",
    "                In which neighbourhood are placed the matching venues?\n",
    "\n",
    "- This quantitative data is going to be later interpreted in the context of the qualitative data we have available about habits and behaviour of Segovians. \n"
   ]
  },
  {
   "cell_type": "code",
   "execution_count": null,
   "metadata": {},
   "outputs": [],
   "source": []
  }
 ],
 "metadata": {
  "kernelspec": {
   "display_name": "Python 3",
   "language": "python",
   "name": "python3"
  },
  "language_info": {
   "codemirror_mode": {
    "name": "ipython",
    "version": 3
   },
   "file_extension": ".py",
   "mimetype": "text/x-python",
   "name": "python",
   "nbconvert_exporter": "python",
   "pygments_lexer": "ipython3",
   "version": "3.7.7"
  }
 },
 "nbformat": 4,
 "nbformat_minor": 4
}
